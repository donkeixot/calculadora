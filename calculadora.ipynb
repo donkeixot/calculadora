{
 "cells": [
  {
   "cell_type": "code",
   "execution_count": 40,
   "id": "593cf28a-ba0c-4063-97c9-2a387b45260c",
   "metadata": {},
   "outputs": [
    {
     "ename": "IndentationError",
     "evalue": "unindent does not match any outer indentation level (<tokenize>, line 26)",
     "output_type": "error",
     "traceback": [
      "\u001b[1;36m  File \u001b[1;32m<tokenize>:26\u001b[1;36m\u001b[0m\n\u001b[1;33m    print(\"Deseja realizar outra operação? (s/n)\")\u001b[0m\n\u001b[1;37m    ^\u001b[0m\n\u001b[1;31mIndentationError\u001b[0m\u001b[1;31m:\u001b[0m unindent does not match any outer indentation level\n"
     ]
    }
   ],
   "source": [
    "while True:\n",
    "    print(\"Insira o primeiro numero\")\n",
    "    a = float(input())\n",
    "    print(\"Insira o segundo numero\")\n",
    "    b = float(input())\n",
    "    print(\"qual operção deseja fazer?\")\n",
    "    print(\"1 = Soma\") \n",
    "    print(\"2 = Subitração\")\n",
    "    print(\"3 = Divisão\")\n",
    "    print(\"4 = Multiplicação\")\n",
    "    c = input()\n",
    "\n",
    "    if c == '1':\n",
    "        print(\"Resultado: \", a + b)\n",
    "    elif c == '2':\n",
    "        print(\"Resultado: \", a - b)\n",
    "    elif c == '3':\n",
    "        if b != 0:\n",
    "            print(\"Resultado: \", a / b)\n",
    "        else:\n",
    "            print(\"Não se pode dividir por zero\")\n",
    "    elif c == '4':\n",
    "        print(\"Resultado: \", a * b)\n",
    "    else:\n",
    "        print(\"Opção Invalida\")\n",
    " print(\"Deseja realizar outra operação? (s/n)\")\n",
    "    if input().lower() != 's':\n",
    "        break\n"
   ]
  },
  {
   "cell_type": "code",
   "execution_count": null,
   "id": "c4e449c1-2a8e-4c67-95ac-06aa69114050",
   "metadata": {},
   "outputs": [],
   "source": []
  }
 ],
 "metadata": {
  "kernelspec": {
   "display_name": "Python 3 (ipykernel)",
   "language": "python",
   "name": "python3"
  },
  "language_info": {
   "codemirror_mode": {
    "name": "ipython",
    "version": 3
   },
   "file_extension": ".py",
   "mimetype": "text/x-python",
   "name": "python",
   "nbconvert_exporter": "python",
   "pygments_lexer": "ipython3",
   "version": "3.11.7"
  }
 },
 "nbformat": 4,
 "nbformat_minor": 5
}
